{
 "cells": [
  {
   "cell_type": "code",
   "execution_count": null,
   "metadata": {},
   "outputs": [],
   "source": [
    "import socket\n",
    "import os, sys\n",
    "\n",
    "\n",
    "class RelayBox(object):\n",
    "    def __init__(src_sock=None, dst_sock=None):\n",
    "        self.src_sock = src_sock\n",
    "        self.dst_sock = dst.sock\n",
    "\n",
    "    def run():\n",
    "        buf_size = 2048\n",
    "        while True:\n",
    "            buf = self.src_sock.recv(buf_size)\n",
    "            if len(buf):\n",
    "                buf = self.handle(buf)\n",
    "                self.dst_sock.send(buf)\n",
    "            else:\n",
    "                pass\n",
    "    \n",
    "    def handle(data):\n",
    "        return data\n",
    "\n"
   ]
  }
 ],
 "metadata": {
  "language_info": {
   "codemirror_mode": {
    "name": "ipython",
    "version": 3
   },
   "file_extension": ".py",
   "mimetype": "text/x-python",
   "name": "python",
   "nbconvert_exporter": "python",
   "pygments_lexer": "ipython3",
   "version": 3
  },
  "orig_nbformat": 2
 },
 "nbformat": 4,
 "nbformat_minor": 2
}