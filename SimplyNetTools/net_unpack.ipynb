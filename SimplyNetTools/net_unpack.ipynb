{
 "cells": [
  {
   "cell_type": "code",
   "execution_count": null,
   "metadata": {},
   "outputs": [],
   "source": [
    "import socket\n",
    "import os, sys\n",
    "import struct\n",
    "\n",
    "\n",
    "def ethernet_unpack(byte_data):\n",
    "    dst_mac, src_mac, proto = struct.unpack('! 6s 6s H', byte_data[:14])\n",
    "    return bytes2mac(dst_mac), bytes2mac(src_mac), socket.htons(proto), byte_data[14:]\n",
    "\n",
    "\n",
    "def bytes2mac(byts):\n",
    "    return\n",
    "\n"
   ]
  }
 ],
 "metadata": {
  "language_info": {
   "codemirror_mode": {
    "name": "ipython",
    "version": 3
   },
   "file_extension": ".py",
   "mimetype": "text/x-python",
   "name": "python",
   "nbconvert_exporter": "python",
   "pygments_lexer": "ipython3",
   "version": 3
  },
  "orig_nbformat": 2
 },
 "nbformat": 4,
 "nbformat_minor": 2
}